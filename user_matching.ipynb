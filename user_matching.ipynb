{
 "cells": [
  {
   "cell_type": "markdown",
   "metadata": {},
   "source": [
    "# User Matching\n",
    "\n",
    "Notebook author: Martin Saveski (msaveski@mit.edu)\n",
    "\n",
    "Copyright (c) Facebook, Inc. and its affiliates.\n",
    "\n",
    "This source code is licensed under the MIT license found in the LICENSE file in the root directory of this source tree."
   ]
  },
  {
   "cell_type": "code",
   "execution_count": null,
   "metadata": {},
   "outputs": [],
   "source": [
    "import random\n",
    "import numpy as np\n",
    "import pandas as pd\n",
    "from tqdm import tqdm"
   ]
  },
  {
   "cell_type": "markdown",
   "metadata": {},
   "source": [
    "Queries for fetching catalyst and control data"
   ]
  },
  {
   "cell_type": "code",
   "execution_count": null,
   "metadata": {},
   "outputs": [],
   "source": [
    "q_catalyst = None\n",
    "q_control = None"
   ]
  },
  {
   "cell_type": "markdown",
   "metadata": {},
   "source": [
    "Build indices"
   ]
  },
  {
   "cell_type": "code",
   "execution_count": null,
   "metadata": {},
   "outputs": [],
   "source": [
    "n_posts_user_ids = {}\n",
    "n_posts_n_friends = {}\n",
    "\n",
    "df_control_n_posts = q_control['n_posts'].values\n",
    "df_control_n_friends = q_control['n_friends'].values\n",
    "df_control_user_ids = q_control['user_id'].values\n",
    "\n",
    "for i in tqdm(range(len(df_control_user_ids))):\n",
    "    \n",
    "    i_n_posts = df_control_n_posts[i]\n",
    "    i_user_id = df_control_user_ids[i]\n",
    "    i_n_friends = df_control_n_friends[i]\n",
    "    \n",
    "    if np.isnan(df_control_n_friends[i]):\n",
    "        continue\n",
    "    \n",
    "    # add user_id\n",
    "    n_posts_user_ids_l = n_posts_user_ids.get(i_n_posts, [])\n",
    "    n_posts_user_ids_l.append(i_user_id)\n",
    "    n_posts_user_ids[i_n_posts] = n_posts_user_ids_l\n",
    "    \n",
    "    # add n_friends\n",
    "    n_posts_n_friends_l = n_posts_n_friends.get(i_n_posts, [])\n",
    "    n_posts_n_friends_l.append(i_n_friends)\n",
    "    n_posts_n_friends[i_n_posts] = n_posts_n_friends_l"
   ]
  },
  {
   "cell_type": "markdown",
   "metadata": {},
   "source": [
    "Finding users with the same number of posts and closest friend count"
   ]
  },
  {
   "cell_type": "code",
   "execution_count": null,
   "metadata": {},
   "outputs": [],
   "source": [
    "def closest_by_n_friends(cat_n_friends, control_n_friends, control_user_ids, seen):\n",
    "    \n",
    "    # [searchsorted] =>\n",
    "    # right: a[i-1] <= v < a[i]\n",
    "    # If ‘left’, the index of the first suitable location found is given. \n",
    "    # If ‘right’, return the last such index. \n",
    "    # If there is no suitable index, return either 0 or N (where N is the length of a).\n",
    "    \n",
    "    max_ind = max(len(control_n_friends) - 1, 0)\n",
    "    m_ind = np.searchsorted(control_n_friends, cat_n_friends, side='left')\n",
    "    \n",
    "    if m_ind == len(control_n_friends):\n",
    "        m_ind = m_ind - 1\n",
    "    \n",
    "    if (m_ind - 1) >= 0:\n",
    "        # check which one is better\n",
    "        d_m1 = abs(control_n_friends[m_ind - 1] - cat_n_friends)\n",
    "        dm = abs(control_n_friends[m_ind] - cat_n_friends)\n",
    "        \n",
    "        if d_m1 <= dm:\n",
    "            m_ind = m_ind -1\n",
    "    \n",
    "    if control_user_ids[m_ind] not in seen:\n",
    "        return control_user_ids[m_ind]\n",
    "    \n",
    "    else:\n",
    "        # find an alternative \n",
    "        l_ind = m_ind - 1\n",
    "        r_ind = m_ind + 1\n",
    "        \n",
    "        while True:\n",
    "            if l_ind < 0 and r_ind > max_ind:\n",
    "                return None\n",
    "            \n",
    "            if l_ind < 0:\n",
    "                l_delta = np.inf\n",
    "            else:\n",
    "                l_delta = abs(control_n_friends[l_ind] - cat_n_friends)\n",
    "                \n",
    "            if r_ind > max_ind:\n",
    "                r_delta = np.inf\n",
    "            else:\n",
    "                r_delta = abs(control_n_friends[r_ind] - cat_n_friends)\n",
    "            \n",
    "            if l_delta < r_delta:\n",
    "                if control_user_ids[l_ind] not in seen:\n",
    "                    return control_user_ids[l_ind]\n",
    "                    \n",
    "                l_ind -= 1\n",
    "                \n",
    "            elif r_delta <= l_delta:\n",
    "                if control_user_ids[r_ind] not in seen:\n",
    "                    return control_user_ids[r_ind]\n",
    "                \n",
    "                r_ind += 1\n",
    "    \n",
    "    return None"
   ]
  },
  {
   "cell_type": "code",
   "execution_count": null,
   "metadata": {},
   "outputs": [],
   "source": [
    "def closest_by_n_posts(cat_n_posts, cat_n_friends, n_posts_n_friends, n_posts_user_ids, seen):\n",
    "    \n",
    "    if cat_n_posts not in n_posts_user_ids:\n",
    "        return None\n",
    "        \n",
    "    m_user_id = closest_by_n_friends(\n",
    "        cat_n_friends, \n",
    "        n_posts_n_friends[cat_n_posts], \n",
    "        n_posts_user_ids[cat_n_posts], \n",
    "        seen\n",
    "    )\n",
    "    \n",
    "    if m_user_id is not None:\n",
    "        seen.add(m_user_id)\n",
    "        \n",
    "    return m_user_id"
   ]
  },
  {
   "cell_type": "code",
   "execution_count": null,
   "metadata": {},
   "outputs": [],
   "source": [
    "max_d_posts = 5\n",
    "\n",
    "df_catalyst_n_posts = q_catalyst['n_posts'].values\n",
    "df_catalyst_n_friends = q_catalyst['n_friends'].values\n",
    "df_catalyst_user_ids = q_catalyst['user_id'].values\n",
    "n_catalysts = len(df_catalyst_n_posts)\n",
    "\n",
    "seen = set()\n",
    "matching = {} # catalyst_user_id => control_user_id\n",
    "\n",
    "d_posts = []\n",
    "n_not_matched = 0\n",
    "\n",
    "for i in tqdm(range(n_catalysts)):\n",
    "    if i % 100000 == 0: \n",
    "        print(f\"#{i} | # not matched: {n_not_matched} | # seen {len(seen)}\")\n",
    "    \n",
    "    cat_n_posts = df_catalyst_n_posts[i]\n",
    "    cat_user_id = df_catalyst_user_ids[i]\n",
    "    cat_n_friends = df_catalyst_n_friends[i]\n",
    "    \n",
    "    m_user_id = None\n",
    "    sgns = random.sample([-1, 1], 2)\n",
    "    steps = [0] + [sgn * i for i in range(1, max_d_posts + 1) for sgn in sgns]\n",
    "    \n",
    "    for step in steps:\n",
    "        cat_n_posts_step = cat_n_posts + step\n",
    "        \n",
    "        m_user_id = closest_by_n_posts(\n",
    "            cat_n_posts_step, \n",
    "            cat_n_friends, \n",
    "            n_posts_n_friends, \n",
    "            n_posts_user_ids, \n",
    "            seen\n",
    "        )\n",
    "        \n",
    "        if m_user_id is not None:\n",
    "            break\n",
    "    \n",
    "    if m_user_id is not None:\n",
    "        matching[cat_user_id] = m_user_id\n",
    "        d_posts.append(abs(step))\n",
    "    \n",
    "    else:\n",
    "        print(\"match not found\", cat_n_posts)\n",
    "        n_not_matched += 1"
   ]
  },
  {
   "cell_type": "markdown",
   "metadata": {},
   "source": [
    "Output"
   ]
  },
  {
   "cell_type": "code",
   "execution_count": null,
   "metadata": {},
   "outputs": [],
   "source": [
    "df_out = pd.DataFrame(\n",
    "    data={\n",
    "        \"catalyst_user_id\": list(matching.keys()), \n",
    "        \"matched_user_id\": list(matching.values())\n",
    "    })"
   ]
  }
 ],
 "metadata": {
  "bento_stylesheets": {
   "bento/extensions/flow/main.css": true,
   "bento/extensions/kernel_selector/main.css": true,
   "bento/extensions/kernel_ui/main.css": true,
   "bento/extensions/new_kernel/main.css": true,
   "bento/extensions/system_usage/main.css": true,
   "bento/extensions/theme/main.css": true
  },
  "disseminate_hive_queries": {
   "WITH -- aggregate VPVs t_vpvs AS ( SELECT user_id, n_comments_fof AS x_column, ( interactions_n_vpv_news_feed + interactions_n_readstate_vpv_timeline + interactions_post_n_readstate_vpv_permalink ) AS n_vpvs FROM test_user_catalystness_and_characteristics_private_posts ), -- remove posts with no VPVs & compute ntiles x_tiles AS ( SELECT user_id, x_column, n_vpvs, ntile(3) OVER (ORDER BY x_column) AS x_tile_column FROM t_vpvs WHERE n_vpvs > 0 ORDER BY n_vpvs ) SELECT user_id, n_vpvs FROM x_tiles WHERE x_tile_column = 1": "measurementsystems",
   "WITH -- aggregate VPVs t_vpvs AS ( SELECT user_id, n_comments_fof AS x_column, ( interactions_n_vpv_news_feed + interactions_n_readstate_vpv_timeline + interactions_post_n_readstate_vpv_permalink ) AS n_vpvs FROM test_user_catalystness_and_characteristics_private_posts ), -- remove posts with no VPVs & compute ntiles x_tiles AS ( SELECT user_id, x_column, n_vpvs, ntile(3) OVER (ORDER BY x_column) AS x_tile_column FROM t_vpvs WHERE n_vpvs > 0 ORDER BY n_vpvs ) SELECT user_id, n_vpvs FROM x_tiles WHERE x_tile_column = 3": "measurementsystems",
   "WITH posts_vpvs AS ( SELECT post_id, i_n_vpv, catalyst_comments_fof AS n_comments_x FROM test_msaveski_post_catalystness_engagement_content WHERE i_n_vpv > 0 AND post_privacy = 'ALL_FRIENDS' ) SELECT post_id, i_n_vpv AS n_vpvs FROM posts_vpvs TABLESAMPLE BERNOULLI(3) WHERE n_comments_x < 10 ORDER BY i_n_vpv": "measurementsystems",
   "WITH posts_vpvs AS ( SELECT post_id, i_n_vpv, catalyst_comments_fof AS n_comments_x FROM test_msaveski_post_catalystness_engagement_content WHERE i_n_vpv > 0 AND post_privacy = 'ALL_FRIENDS' ) SELECT post_id, i_n_vpv AS n_vpvs FROM posts_vpvs WHERE n_comments_x >= 10": "measurementsystems",
   "WITH posts_vpvs AS ( SELECT post_id, i_n_vpv, catalyst_comments_fof AS n_comments_x FROM test_msaveski_post_catalystness_engagement_content WHERE i_n_vpv > 0 AND post_privacy = 'EVERYONE' ) SELECT post_id, i_n_vpv AS n_vpvs FROM posts_vpvs TABLESAMPLE BERNOULLI(5) WHERE n_comments_x < 10 ORDER BY i_n_vpv": "measurementsystems",
   "WITH posts_vpvs AS ( SELECT post_id, i_n_vpv, catalyst_comments_fof AS n_comments_x FROM test_msaveski_post_catalystness_engagement_content WHERE i_n_vpv > 0 AND post_privacy = 'EVERYONE' ) SELECT post_id, i_n_vpv AS n_vpvs FROM posts_vpvs WHERE n_comments_x >= 10": "measurementsystems",
   "WITH posts_vpvs AS ( SELECT post_id, i_n_vpv, catalyst_comments_friend AS n_comments_x FROM test_msaveski_post_catalystness_engagement_content WHERE i_n_vpv > 0 AND post_privacy = 'ALL_FRIENDS' ) SELECT post_id, i_n_vpv AS n_vpvs FROM posts_vpvs TABLESAMPLE BERNOULLI(2) WHERE n_comments_x < 10": "measurementsystems",
   "WITH posts_vpvs AS ( SELECT post_id, i_n_vpv, catalyst_comments_friend AS n_comments_x FROM test_msaveski_post_catalystness_engagement_content WHERE i_n_vpv > 0 AND post_privacy = 'ALL_FRIENDS' ) SELECT post_id, i_n_vpv AS n_vpvs FROM posts_vpvs TABLESAMPLE BERNOULLI(2) WHERE n_comments_x < 10 ORDER BY i_n_vpv": "measurementsystems",
   "WITH posts_vpvs AS ( SELECT post_id, i_n_vpv, catalyst_comments_friend AS n_comments_x FROM test_msaveski_post_catalystness_engagement_content WHERE i_n_vpv > 0 AND post_privacy = 'ALL_FRIENDS' ) SELECT post_id, i_n_vpv AS n_vpvs FROM posts_vpvs TABLESAMPLE BERNOULLI(3) WHERE n_comments_x < 10 ORDER BY i_n_vpv": "measurementsystems",
   "WITH posts_vpvs AS ( SELECT post_id, i_n_vpv, catalyst_comments_friend AS n_comments_x FROM test_msaveski_post_catalystness_engagement_content WHERE i_n_vpv > 0 AND post_privacy = 'ALL_FRIENDS' ) SELECT post_id, i_n_vpv AS n_vpvs FROM posts_vpvs WHERE n_comments_x >= 10": "measurementsystems",
   "WITH posts_vpvs AS ( SELECT post_id, i_n_vpv, catalyst_comments_friend AS n_comments_x FROM test_msaveski_post_catalystness_engagement_content WHERE i_n_vpv > 0 AND post_privacy = 'EVERYONE' ) SELECT post_id, i_n_vpv AS n_vpvs FROM posts_vpvs TABLESAMPLE BERNOULLI(3) WHERE n_comments_x < 10 ORDER BY i_n_vpv": "measurementsystems",
   "WITH posts_vpvs AS ( SELECT post_id, i_n_vpv, catalyst_comments_friend AS n_comments_x FROM test_msaveski_post_catalystness_engagement_content WHERE i_n_vpv > 0 AND post_privacy = 'EVERYONE' ) SELECT post_id, i_n_vpv AS n_vpvs FROM posts_vpvs TABLESAMPLE BERNOULLI(5) WHERE n_comments_x < 10 ORDER BY i_n_vpv": "measurementsystems",
   "WITH posts_vpvs AS ( SELECT post_id, i_n_vpv, catalyst_comments_friend AS n_comments_x FROM test_msaveski_post_catalystness_engagement_content WHERE i_n_vpv > 0 AND post_privacy = 'EVERYONE' ) SELECT post_id, i_n_vpv AS n_vpvs FROM posts_vpvs WHERE n_comments_x >= 10": "measurementsystems",
   "WITH user_features AS ( SELECT user_id, n_posts, friend_count AS n_friends, (catalyst_comments * n_posts) AS catalyst_comments FROM test_msaveski_user_catalystness_engagement_content WHERE i_n_vpv > 0 ) SELECT user_id, n_posts, n_friends FROM user_features WHERE catalyst_comments <= 30 AND n_posts < 9 ORDER BY n_posts, n_friends": "measurementsystems",
   "WITH user_features AS ( SELECT user_id, n_posts, friend_count AS n_friends, (catalyst_comments * n_posts) AS catalyst_comments FROM test_msaveski_user_catalystness_engagement_content WHERE i_n_vpv > 0 ) SELECT user_id, n_posts, n_friends FROM user_features WHERE catalyst_comments <= 30 AND n_posts >= 9 ORDER BY n_posts, n_friends": "measurementsystems",
   "WITH user_features AS ( SELECT user_id, n_posts, friend_count AS n_friends, (catalyst_comments * n_posts) AS catalyst_comments FROM test_msaveski_user_catalystness_engagement_content WHERE i_n_vpv > 0 ) SELECT user_id, n_posts, n_friends FROM user_features WHERE catalyst_comments > 30": "measurementsystems",
   "WITH user_features AS ( SELECT user_id, n_posts, friend_count AS n_friends, (i_n_vpv * n_posts) AS n_vpvs, (catalyst_comments * n_posts) AS catalyst_comments FROM test_msaveski_user_catalystness_engagement_content WHERE i_n_vpv > 0 ) SELECT user_id, n_posts, n_friends FROM user_features WHERE catalyst_comments <= 30 AND n_vpvs < 1000 ORDER BY n_vpvs": "measurementsystems",
   "WITH user_features AS ( SELECT user_id, n_posts, friend_count AS n_friends, (i_n_vpv * n_posts) AS n_vpvs, (catalyst_comments * n_posts) AS catalyst_comments FROM test_msaveski_user_catalystness_engagement_content WHERE i_n_vpv > 0 ) SELECT user_id, n_posts, n_friends FROM user_features WHERE catalyst_comments <= 30 AND n_vpvs >= 1000 ORDER BY n_vpvs": "measurementsystems",
   "WITH user_features AS ( SELECT user_id, n_posts, friend_count AS n_friends, (i_n_vpv * n_posts) AS n_vpvs, (catalyst_comments * n_posts) AS catalyst_comments FROM test_msaveski_user_catalystness_engagement_content WHERE i_n_vpv > 0 ) SELECT user_id, n_posts, n_friends FROM user_features WHERE catalyst_comments > 30": "measurementsystems",
   "WITH user_features AS ( SELECT user_id, n_posts, friend_count AS n_friends, i_n_vpv AS n_vpvs, (catalyst_comments * n_posts) AS catalyst_comments FROM test_msaveski_user_catalystness_engagement_content WHERE i_n_vpv > 0 ) SELECT user_id, n_posts, n_friends FROM user_features TABLESAMPLE BERNOULLI(5) WHERE catalyst_comments <= 30 ORDER BY n_posts, n_friends": "measurementsystems",
   "WITH user_features AS ( SELECT user_id, n_posts, friend_count AS n_friends, i_n_vpv AS n_vpvs, (catalyst_comments * n_posts) AS catalyst_comments FROM test_msaveski_user_catalystness_engagement_content WHERE i_n_vpv > 0 ) SELECT user_id, n_posts, n_friends FROM user_features TABLESAMPLE BERNOULLI(5) WHERE catalyst_comments <= 30 ORDER BY n_vpvs": "measurementsystems",
   "WITH user_features AS ( SELECT user_id, n_posts, friend_count AS n_friends, i_n_vpv AS n_vpvs, (catalyst_comments * n_posts) AS catalyst_comments FROM test_msaveski_user_catalystness_engagement_content WHERE i_n_vpv > 0 ) SELECT user_id, n_posts, n_friends FROM user_features WHERE catalyst_comments <= 30 AND n_vpvs < 1000 ORDER BY n_vpvs LIMIT 100": "measurementsystems",
   "WITH user_features AS ( SELECT user_id, n_posts, friend_count AS n_friends, i_n_vpv AS n_vpvs, (catalyst_comments * n_posts) AS catalyst_comments FROM test_msaveski_user_catalystness_engagement_content WHERE i_n_vpv > 0 ) SELECT user_id, n_posts, n_friends FROM user_features WHERE catalyst_comments <= 30 AND n_vpvs >= 1000 ORDER BY n_vpvs LIMIT 100": "measurementsystems",
   "WITH user_features AS ( SELECT user_id, n_posts, friend_count AS n_friends, i_n_vpv AS n_vpvs, (catalyst_comments * n_posts) AS catalyst_comments FROM test_msaveski_user_catalystness_engagement_content WHERE i_n_vpv > 0 ) SELECT user_id, n_posts, n_friends FROM user_features WHERE catalyst_comments > 30": "measurementsystems",
   "WITH user_vpvs AS ( SELECT user_id, (i_n_vpv * n_posts) AS n_vpvs, (catalyst_comments * n_posts) AS catalyst_comments FROM test_msaveski_user_catalystness_engagement_content WHERE i_n_vpv > 0 ) SELECT user_id, n_vpvs FROM user_vpvs TABLESAMPLE BERNOULLI(25) WHERE catalyst_comments <= 30 ORDER BY n_vpvs": "measurementsystems",
   "WITH user_vpvs AS ( SELECT user_id, (i_n_vpv * n_posts) AS n_vpvs, (catalyst_comments * n_posts) AS catalyst_comments FROM test_msaveski_user_catalystness_engagement_content WHERE i_n_vpv > 0 ) SELECT user_id, n_vpvs FROM user_vpvs TABLESAMPLE BERNOULLI(35) WHERE catalyst_comments <= 30 ORDER BY n_vpvs": "measurementsystems",
   "WITH user_vpvs AS ( SELECT user_id, (i_n_vpv * n_posts) AS n_vpvs, (catalyst_comments * n_posts) AS catalyst_comments FROM test_msaveski_user_catalystness_engagement_content WHERE i_n_vpv > 0 ) SELECT user_id, n_vpvs FROM user_vpvs TABLESAMPLE BERNOULLI(75) WHERE catalyst_comments <= 30 ORDER BY n_vpvs": "measurementsystems",
   "WITH user_vpvs AS ( SELECT user_id, (i_n_vpv * n_posts) AS n_vpvs, (catalyst_comments * n_posts) AS catalyst_comments FROM test_msaveski_user_catalystness_engagement_content WHERE i_n_vpv > 0 ) SELECT user_id, n_vpvs FROM user_vpvs WHERE catalyst_comments <= 30 AND n_vpvs < 1000 ORDER BY n_vpvs": "measurementsystems",
   "WITH user_vpvs AS ( SELECT user_id, (i_n_vpv * n_posts) AS n_vpvs, (catalyst_comments * n_posts) AS catalyst_comments FROM test_msaveski_user_catalystness_engagement_content WHERE i_n_vpv > 0 ) SELECT user_id, n_vpvs FROM user_vpvs WHERE catalyst_comments <= 30 AND n_vpvs >= 1000 ORDER BY n_vpvs": "measurementsystems",
   "WITH user_vpvs AS ( SELECT user_id, (i_n_vpv * n_posts) AS n_vpvs, (catalyst_comments * n_posts) AS catalyst_comments FROM test_msaveski_user_catalystness_engagement_content WHERE i_n_vpv > 0 ) SELECT user_id, n_vpvs FROM user_vpvs WHERE catalyst_comments > 30": "measurementsystems",
   "WITH user_vpvs AS ( SELECT user_id, (i_n_vpv * n_posts) AS n_vpvs, (catalyst_comments * n_posts) AS catalyst_comments FROM test_msaveski_user_catalystness_engagement_content WHERE i_n_vpv > 0 ) SELECT user_id, n_vpvs FROM user_vpvs WHERE catalyst_comments > 35": "measurementsystems",
   "WITH user_vpvs AS ( SELECT user_id, i_n_vpv AS n_vpvs, catalyst_comments FROM test_msaveski_user_catalystness_engagement_content WHERE i_n_vpv > 0 ) SELECT user_id, n_vpvs FROM user_vpvs TABLESAMPLE BERNOULLI(10) WHERE catalyst_comments <= 2 ORDER BY n_vpvs": "measurementsystems",
   "WITH user_vpvs AS ( SELECT user_id, i_n_vpv AS n_vpvs, catalyst_comments FROM test_msaveski_user_catalystness_engagement_content WHERE i_n_vpv > 0 ) SELECT user_id, n_vpvs FROM user_vpvs TABLESAMPLE BERNOULLI(25) WHERE catalyst_comments <= 2 ORDER BY n_vpvs": "measurementsystems",
   "WITH user_vpvs AS ( SELECT user_id, i_n_vpv AS n_vpvs, catalyst_comments FROM test_msaveski_user_catalystness_engagement_content WHERE i_n_vpv > 0 ) SELECT user_id, n_vpvs FROM user_vpvs WHERE catalyst_comments > 2": "measurementsystems"
  },
  "disseminate_notebook_id": {
   "notebook_id": "860831164776722"
  },
  "disseminate_notebook_info": {
   "data_retention_policy": "default",
   "description": "This version matches user on # of posts and then on number of friends.",
   "hide_code": false,
   "no_uii": false,
   "notebook_number": "462145",
   "others_can_edit": false,
   "revision_id": 248035863573993,
   "tags": "python",
   "title": "Martin's Code 1"
  },
  "kernelspec": {
   "display_name": "Python 3",
   "language": "python",
   "name": "bento_kernel_default"
  },
  "language_info": {
   "codemirror_mode": {
    "name": "ipython",
    "version": 3
   },
   "file_extension": ".py",
   "mimetype": "text/x-python",
   "name": "python",
   "nbconvert_exporter": "python",
   "pygments_lexer": "ipython3",
   "version": "3.8.6"
  }
 },
 "nbformat": 4,
 "nbformat_minor": 2
}
