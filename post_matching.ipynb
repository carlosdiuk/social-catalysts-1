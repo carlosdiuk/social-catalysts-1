{
 "cells": [
  {
   "cell_type": "code",
   "execution_count": null,
   "metadata": {
    "collapsed": true,
    "originalKey": "10a4b42b-81a7-4580-96a0-43ffceb3383d"
   },
   "outputs": [],
   "source": [
    "import random\n",
    "import numpy as np\n",
    "import pandas as pd\n",
    "from tqdm import tqdm"
   ]
  },
  {
   "cell_type": "markdown",
   "metadata": {},
   "source": [
    "Queries for fetching catalyst and control data"
   ]
  },
  {
   "cell_type": "code",
   "execution_count": null,
   "metadata": {
    "originalKey": "742e2d12-94da-47d4-85ed-265b9c634b35"
   },
   "outputs": [],
   "source": [
    "q_catalyst = None\n",
    "q_control = None"
   ]
  },
  {
   "cell_type": "markdown",
   "metadata": {
    "originalKey": "18511d8b-4e50-4783-8a1c-f2a84f490182"
   },
   "source": [
    "Build index"
   ]
  },
  {
   "cell_type": "code",
   "execution_count": null,
   "metadata": {
    "originalKey": "a38c2c2e-36d3-430c-ba24-55feb68f292f"
   },
   "outputs": [],
   "source": [
    "n_friends_post_ids = {}\n",
    "\n",
    "df_control_n_friends = q_control['n_friends'].values\n",
    "df_control_post_ids = q_control['post_id'].values\n",
    "\n",
    "for i in tqdm(range(len(df_control_post_ids))):\n",
    "    \n",
    "    i_post_id = df_control_post_ids[i]\n",
    "    i_n_friends = df_control_n_friends[i]\n",
    "    \n",
    "    if np.isnan(df_control_n_friends[i]):\n",
    "        continue\n",
    "    \n",
    "    n_friends_post_ids_l = n_friends_post_ids.get(i_n_friends, [])\n",
    "    n_friends_post_ids_l.append(i_post_id)\n",
    "    n_friends_post_ids[i_n_friends] = n_friends_post_ids_l"
   ]
  },
  {
   "cell_type": "markdown",
   "metadata": {
    "originalKey": "9c03b77a-25cc-4ae1-b8a9-83834a02b084"
   },
   "source": [
    "Shuffle each index"
   ]
  },
  {
   "cell_type": "code",
   "execution_count": null,
   "metadata": {
    "originalKey": "023be38c-43f3-4d1e-8189-25fa36df82a7"
   },
   "outputs": [],
   "source": [
    "for n_f in tqdm(n_friends_post_ids.keys()):    \n",
    "    post_ids = n_friends_post_ids[n_f]    \n",
    "    n_friends_post_ids[n_f] = random.sample(post_ids, len(post_ids))"
   ]
  },
  {
   "cell_type": "markdown",
   "metadata": {
    "originalKey": "6b02f6ff-4450-4322-9284-bf318d5e737b"
   },
   "source": [
    "Finding posts by users with the same number of friends"
   ]
  },
  {
   "cell_type": "code",
   "execution_count": null,
   "metadata": {
    "collapsed": true,
    "originalKey": "ef370add-8753-468a-beed-3599b48ce19c"
   },
   "outputs": [],
   "source": [
    "def find_post(cat_n_friends, n_friends_post_ids, n_friends_max_ind, seen):\n",
    "    \n",
    "    post_ids = n_friends_post_ids[cat_n_friends]\n",
    "    \n",
    "    n_friends_max_ind[cat_n_friends] = n_friends_max_ind.get(cat_n_friends, 0)\n",
    "    \n",
    "    max_ind = n_friends_max_ind[cat_n_friends]\n",
    "    \n",
    "    if max_ind > (len(post_ids) - 1):\n",
    "        return None\n",
    "    \n",
    "    for i in range(max_ind, len(post_ids)):\n",
    "        n_friends_max_ind[cat_n_friends] += 1\n",
    "        \n",
    "        if post_ids[i] not in seen:\n",
    "            return post_ids[i]\n",
    "        \n",
    "    return None"
   ]
  },
  {
   "cell_type": "code",
   "execution_count": null,
   "metadata": {
    "originalKey": "614ab53e-6b6f-4eef-87b6-092d2156f0c3"
   },
   "outputs": [],
   "source": [
    "max_d_friends = 5\n",
    "\n",
    "df_catalyst_post_ids = q_catalyst['post_id'].values\n",
    "df_catalyst_n_friends = q_catalyst['n_friends'].values\n",
    "n_catalysts = len(df_catalyst_post_ids)\n",
    "\n",
    "n_friends_max_ind = {}\n",
    "seen = set()\n",
    "matching = {} # catalyst_post_id => control_post_id\n",
    "\n",
    "d_n_friends = []\n",
    "n_not_matched = 0\n",
    "\n",
    "for i in range(n_catalysts):\n",
    "    if i % 100000 == 0: \n",
    "        print(f\"#{i} | # not matched: {n_not_matched} | # seen {len(seen)}\")\n",
    "    \n",
    "    cat_post_id = df_catalyst_post_ids[i]\n",
    "    cat_n_friends = df_catalyst_n_friends[i]\n",
    "            \n",
    "    m_post_id = find_post(\n",
    "        cat_n_friends,\n",
    "        n_friends_post_ids,\n",
    "        n_friends_max_ind,\n",
    "        seen\n",
    "    )\n",
    "    \n",
    "    if m_post_id is not None:\n",
    "        matching[cat_post_id] = m_post_id\n",
    "        seen.add(m_post_id)\n",
    "\n",
    "    else:\n",
    "        print(\"match not found\", cat_n_friends)\n",
    "        n_not_matched += 1"
   ]
  },
  {
   "cell_type": "markdown",
   "metadata": {
    "originalKey": "f540d660-7d2a-4ddb-85e7-819e3f1e1438"
   },
   "source": [
    "Output"
   ]
  },
  {
   "cell_type": "code",
   "execution_count": null,
   "metadata": {
    "collapsed": true,
    "originalKey": "1e550e7f-31bf-457d-8a21-b9c69b6f1482"
   },
   "outputs": [],
   "source": [
    "df_out = pd.DataFrame(\n",
    "    data={\n",
    "        \"c_post_id\": list(matching.keys()), \n",
    "        \"m_post_id\": list(matching.values())\n",
    "    })"
   ]
  }
 ],
 "metadata": {
  "bento_stylesheets": {
   "bento/extensions/flow/main.css": true,
   "bento/extensions/kernel_selector/main.css": true,
   "bento/extensions/kernel_ui/main.css": true,
   "bento/extensions/new_kernel/main.css": true,
   "bento/extensions/system_usage/main.css": true,
   "bento/extensions/theme/main.css": true
  },
  "disseminate_hive_queries": {
   "SELECT B.post_id, A.n_friends FROM ( SELECT userid AS user_id, friend_count AS n_friends FROM dim_all_users:bi WHERE ds = '2019-07-24' AND friend_count > 0 AND subscriber_count < 5000 ) A JOIN ( SELECT post_id, poster_id, catalyst_comments FROM test_msaveski_post_catalystness_engagement_content TABLESAMPLE BERNOULLI(2) WHERE i_n_vpv > 0 ) B ON A.user_id = B.poster_id WHERE B.catalyst_comments <= 15": "measurementsystems",
   "SELECT B.post_id, A.n_friends FROM ( SELECT userid AS user_id, friend_count AS n_friends FROM dim_all_users:bi WHERE ds = '2019-07-24' AND friend_count > 0 AND subscriber_count < 5000 ) A JOIN ( SELECT post_id, poster_id, catalyst_comments FROM test_msaveski_post_catalystness_engagement_content WHERE i_n_vpv > 0 ) B ON A.user_id = B.poster_id WHERE B.catalyst_comments > 15": "measurementsystems",
   "SELECT B.post_id, A.n_friends FROM ( SELECT userid AS user_id, friend_count AS n_friends FROM dim_all_users:bi WHERE ds = '2019-07-24' AND subscriber_count < 5000 ) A JOIN ( SELECT post_id, poster_id, catalyst_comments FROM test_msaveski_post_catalystness_engagement_content WHERE i_n_vpv > 0 ) B ON A.user_id = B.poster_id WHERE B.catalyst_comments > 15": "measurementsystems",
   "WITH -- aggregate VPVs t_vpvs AS ( SELECT user_id, n_comments_fof AS x_column, ( interactions_n_vpv_news_feed + interactions_n_readstate_vpv_timeline + interactions_post_n_readstate_vpv_permalink ) AS n_vpvs FROM test_user_catalystness_and_characteristics_private_posts ), -- remove posts with no VPVs & compute ntiles x_tiles AS ( SELECT user_id, x_column, n_vpvs, ntile(3) OVER (ORDER BY x_column) AS x_tile_column FROM t_vpvs WHERE n_vpvs > 0 ORDER BY n_vpvs ) SELECT user_id, n_vpvs FROM x_tiles WHERE x_tile_column = 1": "measurementsystems",
   "WITH -- aggregate VPVs t_vpvs AS ( SELECT user_id, n_comments_fof AS x_column, ( interactions_n_vpv_news_feed + interactions_n_readstate_vpv_timeline + interactions_post_n_readstate_vpv_permalink ) AS n_vpvs FROM test_user_catalystness_and_characteristics_private_posts ), -- remove posts with no VPVs & compute ntiles x_tiles AS ( SELECT user_id, x_column, n_vpvs, ntile(3) OVER (ORDER BY x_column) AS x_tile_column FROM t_vpvs WHERE n_vpvs > 0 ORDER BY n_vpvs ) SELECT user_id, n_vpvs FROM x_tiles WHERE x_tile_column = 3": "measurementsystems",
   "WITH posts_vpvs AS ( SELECT post_id, i_n_vpv, catalyst_comments_fof AS n_comments_x FROM test_msaveski_post_catalystness_engagement_content WHERE i_n_vpv > 0 AND post_privacy = 'ALL_FRIENDS' ) SELECT post_id, i_n_vpv AS n_vpvs FROM posts_vpvs TABLESAMPLE BERNOULLI(3) WHERE n_comments_x < 10 ORDER BY i_n_vpv": "measurementsystems",
   "WITH posts_vpvs AS ( SELECT post_id, i_n_vpv, catalyst_comments_fof AS n_comments_x FROM test_msaveski_post_catalystness_engagement_content WHERE i_n_vpv > 0 AND post_privacy = 'ALL_FRIENDS' ) SELECT post_id, i_n_vpv AS n_vpvs FROM posts_vpvs WHERE n_comments_x >= 10": "measurementsystems",
   "WITH posts_vpvs AS ( SELECT post_id, i_n_vpv, catalyst_comments_fof AS n_comments_x FROM test_msaveski_post_catalystness_engagement_content WHERE i_n_vpv > 0 AND post_privacy = 'EVERYONE' ) SELECT post_id, i_n_vpv AS n_vpvs FROM posts_vpvs TABLESAMPLE BERNOULLI(5) WHERE n_comments_x < 10 ORDER BY i_n_vpv": "measurementsystems",
   "WITH posts_vpvs AS ( SELECT post_id, i_n_vpv, catalyst_comments_fof AS n_comments_x FROM test_msaveski_post_catalystness_engagement_content WHERE i_n_vpv > 0 AND post_privacy = 'EVERYONE' ) SELECT post_id, i_n_vpv AS n_vpvs FROM posts_vpvs WHERE n_comments_x >= 10": "measurementsystems",
   "WITH posts_vpvs AS ( SELECT post_id, i_n_vpv, catalyst_comments_friend AS n_comments_x FROM test_msaveski_post_catalystness_engagement_content WHERE i_n_vpv > 0 AND post_privacy = 'ALL_FRIENDS' ) SELECT post_id, i_n_vpv AS n_vpvs FROM posts_vpvs TABLESAMPLE BERNOULLI(2) WHERE n_comments_x < 10": "measurementsystems",
   "WITH posts_vpvs AS ( SELECT post_id, i_n_vpv, catalyst_comments_friend AS n_comments_x FROM test_msaveski_post_catalystness_engagement_content WHERE i_n_vpv > 0 AND post_privacy = 'ALL_FRIENDS' ) SELECT post_id, i_n_vpv AS n_vpvs FROM posts_vpvs TABLESAMPLE BERNOULLI(2) WHERE n_comments_x < 10 ORDER BY i_n_vpv": "measurementsystems",
   "WITH posts_vpvs AS ( SELECT post_id, i_n_vpv, catalyst_comments_friend AS n_comments_x FROM test_msaveski_post_catalystness_engagement_content WHERE i_n_vpv > 0 AND post_privacy = 'ALL_FRIENDS' ) SELECT post_id, i_n_vpv AS n_vpvs FROM posts_vpvs TABLESAMPLE BERNOULLI(3) WHERE n_comments_x < 10 ORDER BY i_n_vpv": "measurementsystems",
   "WITH posts_vpvs AS ( SELECT post_id, i_n_vpv, catalyst_comments_friend AS n_comments_x FROM test_msaveski_post_catalystness_engagement_content WHERE i_n_vpv > 0 AND post_privacy = 'ALL_FRIENDS' ) SELECT post_id, i_n_vpv AS n_vpvs FROM posts_vpvs WHERE n_comments_x >= 10": "measurementsystems",
   "WITH posts_vpvs AS ( SELECT post_id, i_n_vpv, catalyst_comments_friend AS n_comments_x FROM test_msaveski_post_catalystness_engagement_content WHERE i_n_vpv > 0 AND post_privacy = 'EVERYONE' ) SELECT post_id, i_n_vpv AS n_vpvs FROM posts_vpvs TABLESAMPLE BERNOULLI(3) WHERE n_comments_x < 10 ORDER BY i_n_vpv": "measurementsystems",
   "WITH posts_vpvs AS ( SELECT post_id, i_n_vpv, catalyst_comments_friend AS n_comments_x FROM test_msaveski_post_catalystness_engagement_content WHERE i_n_vpv > 0 AND post_privacy = 'EVERYONE' ) SELECT post_id, i_n_vpv AS n_vpvs FROM posts_vpvs TABLESAMPLE BERNOULLI(5) WHERE n_comments_x < 10 ORDER BY i_n_vpv": "measurementsystems",
   "WITH posts_vpvs AS ( SELECT post_id, i_n_vpv, catalyst_comments_friend AS n_comments_x FROM test_msaveski_post_catalystness_engagement_content WHERE i_n_vpv > 0 AND post_privacy = 'EVERYONE' ) SELECT post_id, i_n_vpv AS n_vpvs FROM posts_vpvs WHERE n_comments_x >= 10": "measurementsystems"
  },
  "disseminate_notebook_id": {
   "notebook_id": "717918185560749"
  },
  "disseminate_notebook_info": {
   "data_retention_policy": "default",
   "description": "Matching catalyst posts to control posts by the number of friends the poster has.",
   "hide_code": false,
   "no_uii": false,
   "notebook_number": "462149",
   "others_can_edit": false,
   "revision_id": 1032197160642178,
   "tags": "python",
   "title": "Martin's code 2"
  },
  "kernelspec": {
   "display_name": "Python 3",
   "language": "python",
   "name": "bento_kernel_default"
  },
  "language_info": {
   "codemirror_mode": {
    "name": "ipython",
    "version": 3
   },
   "file_extension": ".py",
   "mimetype": "text/x-python",
   "name": "python",
   "nbconvert_exporter": "python",
   "pygments_lexer": "ipython3",
   "version": "3.8.6"
  },
  "outputWidgetContext": {}
 },
 "nbformat": 4,
 "nbformat_minor": 2
}
